{
  "nbformat": 4,
  "nbformat_minor": 0,
  "metadata": {
    "colab": {
      "provenance": [],
      "authorship_tag": "ABX9TyO4NRQZGU/OM/hU7VirfCrq",
      "include_colab_link": true
    },
    "kernelspec": {
      "name": "python3",
      "display_name": "Python 3"
    },
    "language_info": {
      "name": "python"
    }
  },
  "cells": [
    {
      "cell_type": "markdown",
      "metadata": {
        "id": "view-in-github",
        "colab_type": "text"
      },
      "source": [
        "<a href=\"https://colab.research.google.com/github/Ranjan4Kumar/HackerRank_Stats/blob/main/Stats.ipynb\" target=\"_parent\"><img src=\"https://colab.research.google.com/assets/colab-badge.svg\" alt=\"Open In Colab\"/></a>"
      ]
    },
    {
      "cell_type": "code",
      "execution_count": null,
      "metadata": {
        "colab": {
          "base_uri": "https://localhost:8080/"
        },
        "id": "_wCutr3G3wkA",
        "outputId": "565ab787-6e6b-481f-fab0-4eb5c4e3167a"
      },
      "outputs": [
        {
          "output_type": "stream",
          "name": "stdout",
          "text": [
            "5\n",
            "5\n",
            "5\n",
            "5\n",
            "5\n"
          ]
        }
      ],
      "source": [
        "# \n",
        "\"\"\"\n",
        "Objective\n",
        "In this challenge, we practice calculating the mean, median, and mode. Check out the Tutorial tab for learning materials and an instructional video!\n",
        "\n",
        "Task\n",
        "Given an array, , of  integers, calculate and print the respective mean, median, and mode on separate lines. If your array contains more than one modal value, choose the numerically smallest one.\n",
        "\n",
        "Note: Other than the modal value (which will always be an integer), your answers should be in decimal form, rounded to a scale of  decimal place (i.e., , \n",
        "\n",
        "\n",
        "Input Format\n",
        "\n",
        "The first line contains an integer, , the number of elements in the array.\n",
        "The second line contains  space-separated integers that describe the array's elements.\n",
        "\n",
        "\n",
        "\"\"\"\n",
        "\n",
        "import statistics\n",
        "n=int(input())\n",
        "l=list(map(int,input().split()))[0:n]\n",
        "print(round(statistics.mean(l),1))\n",
        "print(round(statistics.median(l),1))\n",
        "print(round(statistics.mode(sorted(l)),1))"
      ]
    },
    {
      "cell_type": "code",
      "source": [],
      "metadata": {
        "id": "epxgeVsX4g-_"
      },
      "execution_count": null,
      "outputs": []
    }
  ]
}